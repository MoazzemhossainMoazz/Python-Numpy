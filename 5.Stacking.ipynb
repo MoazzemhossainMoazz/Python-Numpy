{
 "cells": [
  {
   "cell_type": "markdown",
   "id": "9b97c390",
   "metadata": {},
   "source": [
    "# Stacking"
   ]
  },
  {
   "cell_type": "markdown",
   "id": "cc95c545",
   "metadata": {},
   "source": [
    "# Horizontal Stacking"
   ]
  },
  {
   "cell_type": "code",
   "execution_count": 15,
   "id": "bee78113",
   "metadata": {},
   "outputs": [],
   "source": [
    "import numpy as np"
   ]
  },
  {
   "cell_type": "code",
   "execution_count": 16,
   "id": "cd68e370",
   "metadata": {},
   "outputs": [],
   "source": [
    "a = np.arange(1, 10). reshape(3, 3)"
   ]
  },
  {
   "cell_type": "code",
   "execution_count": 17,
   "id": "99a38ec2",
   "metadata": {},
   "outputs": [
    {
     "data": {
      "text/plain": [
       "array([[1, 2, 3],\n",
       "       [4, 5, 6],\n",
       "       [7, 8, 9]])"
      ]
     },
     "execution_count": 17,
     "metadata": {},
     "output_type": "execute_result"
    }
   ],
   "source": [
    "a"
   ]
  },
  {
   "cell_type": "code",
   "execution_count": 18,
   "id": "3d3f68ed",
   "metadata": {},
   "outputs": [],
   "source": [
    "b = 2*a"
   ]
  },
  {
   "cell_type": "code",
   "execution_count": 19,
   "id": "cb032575",
   "metadata": {},
   "outputs": [
    {
     "data": {
      "text/plain": [
       "array([[ 2,  4,  6],\n",
       "       [ 8, 10, 12],\n",
       "       [14, 16, 18]])"
      ]
     },
     "execution_count": 19,
     "metadata": {},
     "output_type": "execute_result"
    }
   ],
   "source": [
    "b"
   ]
  },
  {
   "cell_type": "code",
   "execution_count": 20,
   "id": "8d3b912d",
   "metadata": {},
   "outputs": [
    {
     "data": {
      "text/plain": [
       "array([[ 1,  2,  3,  2,  4,  6],\n",
       "       [ 4,  5,  6,  8, 10, 12],\n",
       "       [ 7,  8,  9, 14, 16, 18]])"
      ]
     },
     "execution_count": 20,
     "metadata": {},
     "output_type": "execute_result"
    }
   ],
   "source": [
    "np.hstack((a, b))"
   ]
  },
  {
   "cell_type": "code",
   "execution_count": 21,
   "id": "9221ce3a",
   "metadata": {},
   "outputs": [
    {
     "data": {
      "text/plain": [
       "array([[ 1,  2,  3,  2,  4,  6],\n",
       "       [ 4,  5,  6,  8, 10, 12],\n",
       "       [ 7,  8,  9, 14, 16, 18]])"
      ]
     },
     "execution_count": 21,
     "metadata": {},
     "output_type": "execute_result"
    }
   ],
   "source": [
    "np.column_stack((a, b))"
   ]
  },
  {
   "cell_type": "code",
   "execution_count": 22,
   "id": "44a59a79",
   "metadata": {},
   "outputs": [
    {
     "data": {
      "text/plain": [
       "array([[ 1,  2,  3,  2,  4,  6],\n",
       "       [ 4,  5,  6,  8, 10, 12],\n",
       "       [ 7,  8,  9, 14, 16, 18]])"
      ]
     },
     "execution_count": 22,
     "metadata": {},
     "output_type": "execute_result"
    }
   ],
   "source": [
    " np.concatenate((a,b), axis = 1)"
   ]
  },
  {
   "cell_type": "markdown",
   "id": "b006ee22",
   "metadata": {},
   "source": [
    "# Vertical Stacking"
   ]
  },
  {
   "cell_type": "code",
   "execution_count": 23,
   "id": "fad8d598",
   "metadata": {},
   "outputs": [
    {
     "data": {
      "text/plain": [
       "array([[ 1,  2,  3],\n",
       "       [ 4,  5,  6],\n",
       "       [ 7,  8,  9],\n",
       "       [ 2,  4,  6],\n",
       "       [ 8, 10, 12],\n",
       "       [14, 16, 18]])"
      ]
     },
     "execution_count": 23,
     "metadata": {},
     "output_type": "execute_result"
    }
   ],
   "source": [
    "np.vstack((a, b))"
   ]
  },
  {
   "cell_type": "code",
   "execution_count": 24,
   "id": "afc4b0b7",
   "metadata": {},
   "outputs": [
    {
     "data": {
      "text/plain": [
       "array([[ 1,  2,  3],\n",
       "       [ 4,  5,  6],\n",
       "       [ 7,  8,  9],\n",
       "       [ 2,  4,  6],\n",
       "       [ 8, 10, 12],\n",
       "       [14, 16, 18]])"
      ]
     },
     "execution_count": 24,
     "metadata": {},
     "output_type": "execute_result"
    }
   ],
   "source": [
    "np.row_stack((a, b))"
   ]
  },
  {
   "cell_type": "code",
   "execution_count": 25,
   "id": "f78ddd10",
   "metadata": {},
   "outputs": [
    {
     "data": {
      "text/plain": [
       "array([[ 1,  2,  3],\n",
       "       [ 4,  5,  6],\n",
       "       [ 7,  8,  9],\n",
       "       [ 2,  4,  6],\n",
       "       [ 8, 10, 12],\n",
       "       [14, 16, 18]])"
      ]
     },
     "execution_count": 25,
     "metadata": {},
     "output_type": "execute_result"
    }
   ],
   "source": [
    "np.concatenate((a, b), axis = 0)"
   ]
  },
  {
   "cell_type": "markdown",
   "id": "92df3c0f",
   "metadata": {},
   "source": [
    "# Depth Stack"
   ]
  },
  {
   "cell_type": "code",
   "execution_count": 26,
   "id": "5ae33125",
   "metadata": {},
   "outputs": [
    {
     "data": {
      "text/plain": [
       "array([[[ 1,  2],\n",
       "        [ 2,  4],\n",
       "        [ 3,  6]],\n",
       "\n",
       "       [[ 4,  8],\n",
       "        [ 5, 10],\n",
       "        [ 6, 12]],\n",
       "\n",
       "       [[ 7, 14],\n",
       "        [ 8, 16],\n",
       "        [ 9, 18]]])"
      ]
     },
     "execution_count": 26,
     "metadata": {},
     "output_type": "execute_result"
    }
   ],
   "source": [
    "np.dstack((a, b))"
   ]
  }
 ],
 "metadata": {
  "kernelspec": {
   "display_name": "Python 3 (ipykernel)",
   "language": "python",
   "name": "python3"
  },
  "language_info": {
   "codemirror_mode": {
    "name": "ipython",
    "version": 3
   },
   "file_extension": ".py",
   "mimetype": "text/x-python",
   "name": "python",
   "nbconvert_exporter": "python",
   "pygments_lexer": "ipython3",
   "version": "3.10.9"
  }
 },
 "nbformat": 4,
 "nbformat_minor": 5
}
