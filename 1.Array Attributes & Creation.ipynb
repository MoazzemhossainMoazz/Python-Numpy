{
 "cells": [
  {
   "cell_type": "markdown",
   "id": "3deafc3d",
   "metadata": {},
   "source": [
    "# Importing Library"
   ]
  },
  {
   "cell_type": "code",
   "execution_count": 3,
   "id": "f72a7251",
   "metadata": {},
   "outputs": [],
   "source": [
    "import numpy as np"
   ]
  },
  {
   "cell_type": "markdown",
   "id": "f93d92af",
   "metadata": {},
   "source": [
    "# Array Atrributes"
   ]
  },
  {
   "cell_type": "code",
   "execution_count": 4,
   "id": "ee2476f6",
   "metadata": {},
   "outputs": [],
   "source": [
    "a = np.array([1,2,3])"
   ]
  },
  {
   "cell_type": "code",
   "execution_count": 5,
   "id": "7b19e814",
   "metadata": {},
   "outputs": [
    {
     "data": {
      "text/plain": [
       "array([1, 2, 3])"
      ]
     },
     "execution_count": 5,
     "metadata": {},
     "output_type": "execute_result"
    }
   ],
   "source": [
    "a"
   ]
  },
  {
   "cell_type": "code",
   "execution_count": 7,
   "id": "8bbb4de0",
   "metadata": {},
   "outputs": [
    {
     "data": {
      "text/plain": [
       "numpy.ndarray"
      ]
     },
     "execution_count": 7,
     "metadata": {},
     "output_type": "execute_result"
    }
   ],
   "source": [
    "type(a)"
   ]
  },
  {
   "cell_type": "code",
   "execution_count": 9,
   "id": "bf46b009",
   "metadata": {},
   "outputs": [
    {
     "data": {
      "text/plain": [
       "(3,)"
      ]
     },
     "execution_count": 9,
     "metadata": {},
     "output_type": "execute_result"
    }
   ],
   "source": [
    "a.shape"
   ]
  },
  {
   "cell_type": "code",
   "execution_count": 10,
   "id": "fd281b18",
   "metadata": {},
   "outputs": [
    {
     "data": {
      "text/plain": [
       "1"
      ]
     },
     "execution_count": 10,
     "metadata": {},
     "output_type": "execute_result"
    }
   ],
   "source": [
    "a.ndim"
   ]
  },
  {
   "cell_type": "code",
   "execution_count": 12,
   "id": "2c65f201",
   "metadata": {},
   "outputs": [],
   "source": [
    "b = np.array([[1,2,3], [4,5,6]])"
   ]
  },
  {
   "cell_type": "code",
   "execution_count": 16,
   "id": "6c2f0481",
   "metadata": {},
   "outputs": [
    {
     "data": {
      "text/plain": [
       "array([[1, 2, 3],\n",
       "       [4, 5, 6]])"
      ]
     },
     "execution_count": 16,
     "metadata": {},
     "output_type": "execute_result"
    }
   ],
   "source": [
    "b"
   ]
  },
  {
   "cell_type": "code",
   "execution_count": 17,
   "id": "fd056987",
   "metadata": {},
   "outputs": [
    {
     "data": {
      "text/plain": [
       "numpy.ndarray"
      ]
     },
     "execution_count": 17,
     "metadata": {},
     "output_type": "execute_result"
    }
   ],
   "source": [
    "type(b)"
   ]
  },
  {
   "cell_type": "code",
   "execution_count": 18,
   "id": "bb780b26",
   "metadata": {},
   "outputs": [
    {
     "data": {
      "text/plain": [
       "(2, 3)"
      ]
     },
     "execution_count": 18,
     "metadata": {},
     "output_type": "execute_result"
    }
   ],
   "source": [
    "b.shape"
   ]
  },
  {
   "cell_type": "code",
   "execution_count": 19,
   "id": "a9a77e60",
   "metadata": {},
   "outputs": [
    {
     "data": {
      "text/plain": [
       "2"
      ]
     },
     "execution_count": 19,
     "metadata": {},
     "output_type": "execute_result"
    }
   ],
   "source": [
    "b.ndim"
   ]
  },
  {
   "cell_type": "code",
   "execution_count": 20,
   "id": "917d07b6",
   "metadata": {},
   "outputs": [],
   "source": [
    "c = np.array([[[1,2,3],\n",
    "              [4,5,6],\n",
    "              [7,8,9]]])\n",
    "d = np.array([[[1,2,3],\n",
    "              [4,5,6],\n",
    "              [7,8,9]],\n",
    "             \n",
    "             [[10,11,12],\n",
    "             [13,14,15],\n",
    "             [16,17,18]]])"
   ]
  },
  {
   "cell_type": "code",
   "execution_count": 21,
   "id": "ef499f90",
   "metadata": {},
   "outputs": [
    {
     "data": {
      "text/plain": [
       "array([[[1, 2, 3],\n",
       "        [4, 5, 6],\n",
       "        [7, 8, 9]]])"
      ]
     },
     "execution_count": 21,
     "metadata": {},
     "output_type": "execute_result"
    }
   ],
   "source": [
    "c"
   ]
  },
  {
   "cell_type": "code",
   "execution_count": 22,
   "id": "a2a13d16",
   "metadata": {},
   "outputs": [
    {
     "data": {
      "text/plain": [
       "array([[[ 1,  2,  3],\n",
       "        [ 4,  5,  6],\n",
       "        [ 7,  8,  9]],\n",
       "\n",
       "       [[10, 11, 12],\n",
       "        [13, 14, 15],\n",
       "        [16, 17, 18]]])"
      ]
     },
     "execution_count": 22,
     "metadata": {},
     "output_type": "execute_result"
    }
   ],
   "source": [
    "d"
   ]
  },
  {
   "cell_type": "code",
   "execution_count": 23,
   "id": "28142ce7",
   "metadata": {},
   "outputs": [
    {
     "data": {
      "text/plain": [
       "((1, 3, 3), (2, 3, 3))"
      ]
     },
     "execution_count": 23,
     "metadata": {},
     "output_type": "execute_result"
    }
   ],
   "source": [
    "c.shape, d.shape"
   ]
  },
  {
   "cell_type": "code",
   "execution_count": 24,
   "id": "ff7bafab",
   "metadata": {},
   "outputs": [
    {
     "data": {
      "text/plain": [
       "(dtype('int32'), dtype('int32'), dtype('int32'), dtype('int32'))"
      ]
     },
     "execution_count": 24,
     "metadata": {},
     "output_type": "execute_result"
    }
   ],
   "source": [
    "a.dtype, b.dtype, c.dtype, d.dtype"
   ]
  },
  {
   "cell_type": "code",
   "execution_count": 25,
   "id": "c24d4694",
   "metadata": {},
   "outputs": [],
   "source": [
    "c = np.array([[[1,2,3],\n",
    "              [4,5,6],\n",
    "              [7,8.0,9]]])\n",
    "d = np.array([[[1,2,3],\n",
    "              [4,5,6],\n",
    "              [7,8,9]],\n",
    "             \n",
    "             [[10,11,12],\n",
    "             [13,14,15],\n",
    "             [16,17,18]]])"
   ]
  },
  {
   "cell_type": "code",
   "execution_count": 27,
   "id": "37c25229",
   "metadata": {},
   "outputs": [
    {
     "data": {
      "text/plain": [
       "(dtype('int32'), dtype('int32'), dtype('float64'), dtype('int32'))"
      ]
     },
     "execution_count": 27,
     "metadata": {},
     "output_type": "execute_result"
    }
   ],
   "source": [
    "a.dtype, b.dtype, c.dtype, d.dtype"
   ]
  },
  {
   "cell_type": "code",
   "execution_count": 28,
   "id": "04d22577",
   "metadata": {},
   "outputs": [
    {
     "data": {
      "text/plain": [
       "(3, 6, 9, 18)"
      ]
     },
     "execution_count": 28,
     "metadata": {},
     "output_type": "execute_result"
    }
   ],
   "source": [
    "a.size, b.size, c.size, d.size #determine how many elements are there an array"
   ]
  },
  {
   "cell_type": "code",
   "execution_count": 29,
   "id": "13a7f968",
   "metadata": {},
   "outputs": [
    {
     "data": {
      "text/plain": [
       "(12, 24, 72, 72)"
      ]
     },
     "execution_count": 29,
     "metadata": {},
     "output_type": "execute_result"
    }
   ],
   "source": [
    "a.nbytes, b.nbytes, c.nbytes, d.nbytes #determine how many consumed by an array"
   ]
  },
  {
   "cell_type": "markdown",
   "id": "dcd916a4",
   "metadata": {},
   "source": [
    "# Array Creation"
   ]
  },
  {
   "cell_type": "code",
   "execution_count": 30,
   "id": "6599c273",
   "metadata": {},
   "outputs": [],
   "source": [
    "array1 = np.array([1,2,3], dtype='int')"
   ]
  },
  {
   "cell_type": "code",
   "execution_count": 31,
   "id": "74296a27",
   "metadata": {},
   "outputs": [
    {
     "data": {
      "text/plain": [
       "array([1, 2, 3])"
      ]
     },
     "execution_count": 31,
     "metadata": {},
     "output_type": "execute_result"
    }
   ],
   "source": [
    "array1"
   ]
  },
  {
   "cell_type": "code",
   "execution_count": 34,
   "id": "e849132a",
   "metadata": {},
   "outputs": [],
   "source": [
    "zerosVar = np.zeros((2,2), dtype='float')"
   ]
  },
  {
   "cell_type": "code",
   "execution_count": 35,
   "id": "645e42f7",
   "metadata": {},
   "outputs": [
    {
     "data": {
      "text/plain": [
       "array([[0., 0.],\n",
       "       [0., 0.]])"
      ]
     },
     "execution_count": 35,
     "metadata": {},
     "output_type": "execute_result"
    }
   ],
   "source": [
    "zerosVar"
   ]
  },
  {
   "cell_type": "code",
   "execution_count": 36,
   "id": "74c04478",
   "metadata": {},
   "outputs": [],
   "source": [
    "zerosVar = np.zeros((3,3), dtype ='int')"
   ]
  },
  {
   "cell_type": "code",
   "execution_count": 37,
   "id": "e3cb52f2",
   "metadata": {},
   "outputs": [
    {
     "data": {
      "text/plain": [
       "array([[0, 0, 0],\n",
       "       [0, 0, 0],\n",
       "       [0, 0, 0]])"
      ]
     },
     "execution_count": 37,
     "metadata": {},
     "output_type": "execute_result"
    }
   ],
   "source": [
    "zerosVar"
   ]
  },
  {
   "cell_type": "code",
   "execution_count": 38,
   "id": "e3e6b073",
   "metadata": {},
   "outputs": [],
   "source": [
    "onesVal = np.ones((3,3), dtype ='int')"
   ]
  },
  {
   "cell_type": "code",
   "execution_count": 39,
   "id": "db960dc1",
   "metadata": {},
   "outputs": [
    {
     "data": {
      "text/plain": [
       "array([[1, 1, 1],\n",
       "       [1, 1, 1],\n",
       "       [1, 1, 1]])"
      ]
     },
     "execution_count": 39,
     "metadata": {},
     "output_type": "execute_result"
    }
   ],
   "source": [
    "onesVal"
   ]
  },
  {
   "cell_type": "code",
   "execution_count": 42,
   "id": "24f93424",
   "metadata": {},
   "outputs": [],
   "source": [
    "fullVar = np.full((2,3), 5)"
   ]
  },
  {
   "cell_type": "code",
   "execution_count": 43,
   "id": "89179ccc",
   "metadata": {},
   "outputs": [
    {
     "data": {
      "text/plain": [
       "array([[5, 5, 5],\n",
       "       [5, 5, 5]])"
      ]
     },
     "execution_count": 43,
     "metadata": {},
     "output_type": "execute_result"
    }
   ],
   "source": [
    "fullVar"
   ]
  },
  {
   "cell_type": "code",
   "execution_count": 44,
   "id": "e5c0c707",
   "metadata": {},
   "outputs": [],
   "source": [
    "identity = np.identity(3, dtype = 'int')"
   ]
  },
  {
   "cell_type": "code",
   "execution_count": 45,
   "id": "f852c54e",
   "metadata": {},
   "outputs": [
    {
     "data": {
      "text/plain": [
       "array([[1, 0, 0],\n",
       "       [0, 1, 0],\n",
       "       [0, 0, 1]])"
      ]
     },
     "execution_count": 45,
     "metadata": {},
     "output_type": "execute_result"
    }
   ],
   "source": [
    "identity"
   ]
  },
  {
   "cell_type": "code",
   "execution_count": 46,
   "id": "7ea9df2e",
   "metadata": {},
   "outputs": [],
   "source": [
    "eyeVar = np.eye(3,3)"
   ]
  },
  {
   "cell_type": "code",
   "execution_count": 47,
   "id": "b8b62923",
   "metadata": {},
   "outputs": [
    {
     "data": {
      "text/plain": [
       "array([[1., 0., 0.],\n",
       "       [0., 1., 0.],\n",
       "       [0., 0., 1.]])"
      ]
     },
     "execution_count": 47,
     "metadata": {},
     "output_type": "execute_result"
    }
   ],
   "source": [
    "eyeVar"
   ]
  },
  {
   "cell_type": "code",
   "execution_count": 48,
   "id": "1296f182",
   "metadata": {},
   "outputs": [],
   "source": [
    "eyeVar2 = np.eye(3,3,1) # 1 goes 1 side right"
   ]
  },
  {
   "cell_type": "code",
   "execution_count": 49,
   "id": "b612f61e",
   "metadata": {},
   "outputs": [
    {
     "data": {
      "text/plain": [
       "array([[0., 1., 0.],\n",
       "       [0., 0., 1.],\n",
       "       [0., 0., 0.]])"
      ]
     },
     "execution_count": 49,
     "metadata": {},
     "output_type": "execute_result"
    }
   ],
   "source": [
    "eyeVar2"
   ]
  },
  {
   "cell_type": "code",
   "execution_count": 50,
   "id": "ee7aaadc",
   "metadata": {},
   "outputs": [],
   "source": [
    "eyeVar3 = np.eye(3,3,2) #1 goes 2 sides right"
   ]
  },
  {
   "cell_type": "code",
   "execution_count": 51,
   "id": "322d585b",
   "metadata": {},
   "outputs": [
    {
     "data": {
      "text/plain": [
       "array([[0., 0., 1.],\n",
       "       [0., 0., 0.],\n",
       "       [0., 0., 0.]])"
      ]
     },
     "execution_count": 51,
     "metadata": {},
     "output_type": "execute_result"
    }
   ],
   "source": [
    "eyeVar3"
   ]
  },
  {
   "cell_type": "code",
   "execution_count": 52,
   "id": "967997b5",
   "metadata": {},
   "outputs": [],
   "source": [
    "eyeVar4 = np.eye(3,3,-1) #1 goes 1 side left"
   ]
  },
  {
   "cell_type": "code",
   "execution_count": 53,
   "id": "dc5a8a34",
   "metadata": {},
   "outputs": [
    {
     "data": {
      "text/plain": [
       "array([[0., 0., 0.],\n",
       "       [1., 0., 0.],\n",
       "       [0., 1., 0.]])"
      ]
     },
     "execution_count": 53,
     "metadata": {},
     "output_type": "execute_result"
    }
   ],
   "source": [
    "eyeVar4"
   ]
  },
  {
   "cell_type": "code",
   "execution_count": 54,
   "id": "9e9ad72e",
   "metadata": {},
   "outputs": [],
   "source": [
    "arangeVar = np.arange(1, 10, 2) #range 1 to <10 and difference between 2 with them"
   ]
  },
  {
   "cell_type": "code",
   "execution_count": 55,
   "id": "d377765f",
   "metadata": {},
   "outputs": [
    {
     "data": {
      "text/plain": [
       "array([1, 3, 5, 7, 9])"
      ]
     },
     "execution_count": 55,
     "metadata": {},
     "output_type": "execute_result"
    }
   ],
   "source": [
    "arangeVar"
   ]
  },
  {
   "cell_type": "code",
   "execution_count": 56,
   "id": "d5910c8e",
   "metadata": {},
   "outputs": [],
   "source": [
    "arangeVar2 = np.arange(1, 10, 3) #range 1 to <10 and difference between 3 with them"
   ]
  },
  {
   "cell_type": "code",
   "execution_count": 57,
   "id": "b2dd7b5d",
   "metadata": {},
   "outputs": [
    {
     "data": {
      "text/plain": [
       "array([1, 4, 7])"
      ]
     },
     "execution_count": 57,
     "metadata": {},
     "output_type": "execute_result"
    }
   ],
   "source": [
    "arangeVar2"
   ]
  },
  {
   "cell_type": "code",
   "execution_count": 58,
   "id": "9cbb7be1",
   "metadata": {},
   "outputs": [],
   "source": [
    "linspaceVar = np.linspace(1, 5, 10)"
   ]
  },
  {
   "cell_type": "code",
   "execution_count": 59,
   "id": "d117c8cb",
   "metadata": {},
   "outputs": [
    {
     "data": {
      "text/plain": [
       "array([1.        , 1.44444444, 1.88888889, 2.33333333, 2.77777778,\n",
       "       3.22222222, 3.66666667, 4.11111111, 4.55555556, 5.        ])"
      ]
     },
     "execution_count": 59,
     "metadata": {},
     "output_type": "execute_result"
    }
   ],
   "source": [
    "linspaceVar"
   ]
  },
  {
   "cell_type": "code",
   "execution_count": 60,
   "id": "090d281b",
   "metadata": {},
   "outputs": [],
   "source": [
    "linspaceVar2 = np.linspace(1, 5, 50)"
   ]
  },
  {
   "cell_type": "code",
   "execution_count": 61,
   "id": "b5ddb2f4",
   "metadata": {},
   "outputs": [
    {
     "data": {
      "text/plain": [
       "array([1.        , 1.08163265, 1.16326531, 1.24489796, 1.32653061,\n",
       "       1.40816327, 1.48979592, 1.57142857, 1.65306122, 1.73469388,\n",
       "       1.81632653, 1.89795918, 1.97959184, 2.06122449, 2.14285714,\n",
       "       2.2244898 , 2.30612245, 2.3877551 , 2.46938776, 2.55102041,\n",
       "       2.63265306, 2.71428571, 2.79591837, 2.87755102, 2.95918367,\n",
       "       3.04081633, 3.12244898, 3.20408163, 3.28571429, 3.36734694,\n",
       "       3.44897959, 3.53061224, 3.6122449 , 3.69387755, 3.7755102 ,\n",
       "       3.85714286, 3.93877551, 4.02040816, 4.10204082, 4.18367347,\n",
       "       4.26530612, 4.34693878, 4.42857143, 4.51020408, 4.59183673,\n",
       "       4.67346939, 4.75510204, 4.83673469, 4.91836735, 5.        ])"
      ]
     },
     "execution_count": 61,
     "metadata": {},
     "output_type": "execute_result"
    }
   ],
   "source": [
    "linspaceVar2"
   ]
  },
  {
   "cell_type": "code",
   "execution_count": 62,
   "id": "dbf1c290",
   "metadata": {},
   "outputs": [],
   "source": [
    "linspaceVar3 = np.linspace(1, 100, 50, dtype = 'int')"
   ]
  },
  {
   "cell_type": "code",
   "execution_count": 63,
   "id": "c30ec49b",
   "metadata": {},
   "outputs": [
    {
     "data": {
      "text/plain": [
       "array([  1,   3,   5,   7,   9,  11,  13,  15,  17,  19,  21,  23,  25,\n",
       "        27,  29,  31,  33,  35,  37,  39,  41,  43,  45,  47,  49,  51,\n",
       "        53,  55,  57,  59,  61,  63,  65,  67,  69,  71,  73,  75,  77,\n",
       "        79,  81,  83,  85,  87,  89,  91,  93,  95,  97, 100])"
      ]
     },
     "execution_count": 63,
     "metadata": {},
     "output_type": "execute_result"
    }
   ],
   "source": [
    "linspaceVar3"
   ]
  },
  {
   "cell_type": "code",
   "execution_count": 64,
   "id": "f8083237",
   "metadata": {},
   "outputs": [
    {
     "data": {
      "text/plain": [
       "50"
      ]
     },
     "execution_count": 64,
     "metadata": {},
     "output_type": "execute_result"
    }
   ],
   "source": [
    "linspaceVar3.size"
   ]
  },
  {
   "cell_type": "code",
   "execution_count": 65,
   "id": "802dbab8",
   "metadata": {},
   "outputs": [],
   "source": [
    "emptyVar = np.empty((1,5))"
   ]
  },
  {
   "cell_type": "code",
   "execution_count": 66,
   "id": "2c9b1bcf",
   "metadata": {},
   "outputs": [
    {
     "data": {
      "text/plain": [
       "array([[2.12199579e-314, 8.06358401e-312, 1.83792420e-321,\n",
       "        8.06358401e-312, 5.63234836e-322]])"
      ]
     },
     "execution_count": 66,
     "metadata": {},
     "output_type": "execute_result"
    }
   ],
   "source": [
    "emptyVar"
   ]
  },
  {
   "cell_type": "code",
   "execution_count": 68,
   "id": "332cb92c",
   "metadata": {},
   "outputs": [
    {
     "data": {
      "text/plain": [
       "array([[0., 1., 2., 3., 4.]])"
      ]
     },
     "execution_count": 68,
     "metadata": {},
     "output_type": "execute_result"
    }
   ],
   "source": [
    "for i in range(5):\n",
    "    emptyVar[:,i] = i\n",
    "emptyVar"
   ]
  },
  {
   "cell_type": "code",
   "execution_count": null,
   "id": "1dd7b22d",
   "metadata": {},
   "outputs": [],
   "source": []
  }
 ],
 "metadata": {
  "kernelspec": {
   "display_name": "Python 3 (ipykernel)",
   "language": "python",
   "name": "python3"
  },
  "language_info": {
   "codemirror_mode": {
    "name": "ipython",
    "version": 3
   },
   "file_extension": ".py",
   "mimetype": "text/x-python",
   "name": "python",
   "nbconvert_exporter": "python",
   "pygments_lexer": "ipython3",
   "version": "3.10.9"
  }
 },
 "nbformat": 4,
 "nbformat_minor": 5
}
